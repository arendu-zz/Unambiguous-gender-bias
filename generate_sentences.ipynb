{
  "nbformat": 4,
  "nbformat_minor": 0,
  "metadata": {
    "colab": {
      "name": "Untitled3.ipynb",
      "provenance": [],
      "authorship_tag": "ABX9TyPpGxPOgNAHK45eqN9SwdQp",
      "include_colab_link": true
    },
    "kernelspec": {
      "name": "python3",
      "display_name": "Python 3"
    }
  },
  "cells": [
    {
      "cell_type": "markdown",
      "metadata": {
        "id": "view-in-github",
        "colab_type": "text"
      },
      "source": [
        "<a href=\"https://colab.research.google.com/github/arendu/Unambiguous-gender-bias/blob/main/generate_sentences.ipynb\" target=\"_parent\"><img src=\"https://colab.research.google.com/assets/colab-badge.svg\" alt=\"Open In Colab\"/></a>"
      ]
    },
    {
      "cell_type": "code",
      "metadata": {
        "colab": {
          "base_uri": "https://localhost:8080/"
        },
        "id": "j0dVtLBtCFJY",
        "outputId": "d0e3f016-856f-4a84-f932-8ab7f47bc008"
      },
      "source": [
        "!pip install nltk\n",
        "!wget https://raw.githubusercontent.com/arendu/Unambiguous-gender-bias/main/toy.grammar?token=AADLFOP32J2PMJCYVRDRPADAJZN42 -O toy.grammar"
      ],
      "execution_count": 6,
      "outputs": [
        {
          "output_type": "stream",
          "text": [
            "Requirement already satisfied: nltk in /usr/local/lib/python3.7/dist-packages (3.2.5)\n",
            "Requirement already satisfied: six in /usr/local/lib/python3.7/dist-packages (from nltk) (1.15.0)\n",
            "--2021-03-07 18:57:51--  https://raw.githubusercontent.com/arendu/Unambiguous-gender-bias/main/toy.grammar?token=AADLFOP32J2PMJCYVRDRPADAJZN42\n",
            "Resolving raw.githubusercontent.com (raw.githubusercontent.com)... 185.199.108.133, 185.199.109.133, 185.199.110.133, ...\n",
            "Connecting to raw.githubusercontent.com (raw.githubusercontent.com)|185.199.108.133|:443... connected.\n",
            "HTTP request sent, awaiting response... 200 OK\n",
            "Length: 161 [text/plain]\n",
            "Saving to: ‘toy.grammar’\n",
            "\n",
            "toy.grammar         100%[===================>]     161  --.-KB/s    in 0s      \n",
            "\n",
            "2021-03-07 18:57:51 (9.68 MB/s) - ‘toy.grammar’ saved [161/161]\n",
            "\n"
          ],
          "name": "stdout"
        }
      ]
    },
    {
      "cell_type": "code",
      "metadata": {
        "id": "J9_MF_PVDZ9P",
        "outputId": "f34b3c02-3edc-4bef-d6f0-ddc89a8dbaba",
        "colab": {
          "base_uri": "https://localhost:8080/"
        }
      },
      "source": [
        "from nltk.parse.generate import generate\n",
        "from nltk import CFG\n",
        "toy_grammar = CFG.fromstring(open('toy.grammar', 'r').readlines())\n",
        "for sent in generate(toy_grammar, n=10):\n",
        "  print( ' '.join(sent))"
      ],
      "execution_count": 7,
      "outputs": [
        {
          "output_type": "stream",
          "text": [
            "the man slept\n",
            "the man saw the man\n",
            "the man saw the park\n",
            "the man saw the dog\n",
            "the man saw a man\n",
            "the man saw a park\n",
            "the man saw a dog\n",
            "the man walked in the man\n",
            "the man walked in the park\n",
            "the man walked in the dog\n"
          ],
          "name": "stdout"
        }
      ]
    }
  ]
}